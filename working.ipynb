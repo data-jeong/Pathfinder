{
 "cells": [
  {
   "cell_type": "code",
   "execution_count": 13,
   "id": "2744b392",
   "metadata": {},
   "outputs": [],
   "source": [
    "import re\n",
    "import requests\n",
    "from bs4 import BeautifulSoup\n",
    "import pandas as pd\n",
    "import time\n",
    "\n",
    "# ROADMAPS\n",
    "\n",
    "url = 'https://roadmap.sh/roadmaps'\n",
    "data = requests.get(url)\n",
    "soup = BeautifulSoup(data.text, 'html.parser')"
   ]
  },
  {
   "cell_type": "code",
   "execution_count": 18,
   "id": "0677c44a",
   "metadata": {},
   "outputs": [],
   "source": [
    "# 지정된 선택자를 사용하여 목표 엘리먼트 리스트 선택\n",
    "target_list = soup.select('body > astro-island:nth-child(3) > div > div > div.flex.flex-grow.flex-col.gap-6.pb-20.pt-2.sm\\:pt-8')\n",
    "\n",
    "# 결과를 저장할 리스트\n",
    "roadmaps = []\n",
    "\n",
    "# target_list 내의 모든 'a' 태그를 반복하여 처리\n",
    "for target in target_list:\n",
    "    links = target.find_all('a')\n",
    "    for link in links:\n",
    "        title = link.text.strip()  # 태그의 텍스트 추출\n",
    "        href = link['href']        # href 속성 추출\n",
    "        roadmaps.append((title, href))\n"
   ]
  },
  {
   "cell_type": "code",
   "execution_count": 23,
   "id": "a81a7e49",
   "metadata": {},
   "outputs": [],
   "source": [
    "roadmap_df = pd.DataFrame(roadmaps)"
   ]
  },
  {
   "cell_type": "code",
   "execution_count": 28,
   "id": "97f8487b",
   "metadata": {},
   "outputs": [],
   "source": [
    "roadmap_df[1] = 'https://roadmap.sh' + roadmap_df[1]"
   ]
  },
  {
   "cell_type": "code",
   "execution_count": 30,
   "id": "0959b1d6",
   "metadata": {},
   "outputs": [],
   "source": [
    "roadmap_df.columns = ['title', 'url']"
   ]
  },
  {
   "cell_type": "markdown",
   "id": "be7f5a26",
   "metadata": {},
   "source": [
    "# GPT 로드맵 질문"
   ]
  },
  {
   "cell_type": "code",
   "execution_count": 45,
   "id": "5552c488",
   "metadata": {},
   "outputs": [
    {
     "data": {
      "text/plain": [
       "\"\\n['Frontend Beginner' 'Backend Beginner' 'DevOps Beginner' 'Frontend'\\n 'Backend' 'Full Stack' 'QA' 'DevOps' 'Android' 'React Native' 'Flutter'\\n 'PostgreSQL' 'Software Architect' 'Technical Writer'\\n 'AI and Data Scientist' 'Data Analyst' 'MLOps' 'Client Side Game Dev.'\\n 'Server Side Game Dev.' 'UX Design' 'Blockchain' 'Cyber Security'\\n 'GraphQL' 'React' 'Vue' 'Angular' 'Spring Boot' 'ASP.NET Core'\\n 'JavaScript' 'TypeScript' 'Node.js' 'C++' 'Go' 'Rust' 'Python' 'Java'\\n 'SQL' 'Docker' 'Kubernetes' 'AWS' 'MongoDB' 'Computer Science'\\n 'Data Structures' 'System Design' 'Design and Architecture' 'Code Review'\\n 'Prompt Engineering' 'Design System']\\n\\n학습 순서를 더 신중하게 고려하여 다시 정렬해줘  각 카테고리 내에서의 학습 순서를 기초적인 지식에서부터 고급 지식으로, \\n또는 개별 기술의 의존성을 고려하여 조정해 보겠습니다. 각 카테고리 내의 항목들은 먼저 기본적인 이론과 도구를 익히고, \\n이후에 더 전문적이거나 복잡한 주제로 넘어가는 구조로 배치해서 \\n\\nAI, \\nBACKEND, \\nFRONT \\nAPP \\nEXT 기준으로  \\n\\n나누고 배우는 순서를 1,2,3,4로 나눠서 파이썬에서 인식 가능한 dictionary로 줄수 있니?\\n\""
      ]
     },
     "execution_count": 45,
     "metadata": {},
     "output_type": "execute_result"
    }
   ],
   "source": [
    "f\"\"\"\n",
    "{roadmap_df['title'].unique()}\n",
    "\n",
    "학습 순서를 더 신중하게 고려하여 다시 정렬해줘  각 카테고리 내에서의 학습 순서를 기초적인 지식에서부터 고급 지식으로, \n",
    "또는 개별 기술의 의존성을 고려하여 조정해 보겠습니다. 각 카테고리 내의 항목들은 먼저 기본적인 이론과 도구를 익히고, \n",
    "이후에 더 전문적이거나 복잡한 주제로 넘어가는 구조로 배치해서 \n",
    "\n",
    "AI, \n",
    "BACKEND, \n",
    "FRONT \n",
    "APP \n",
    "EXT 기준으로  \n",
    "\n",
    "나누고 배우는 순서를 1,2,3,4로 나눠서 파이썬에서 인식 가능한 dictionary로 줄수 있니?\n",
    "내가 질문한 모든 항목이 포함되어 있어야해\n",
    "\"\"\""
   ]
  },
  {
   "cell_type": "markdown",
   "id": "bc606298",
   "metadata": {},
   "source": [
    "# GPT 로드맵 답변 "
   ]
  },
  {
   "cell_type": "code",
   "execution_count": 62,
   "id": "b46df28d",
   "metadata": {},
   "outputs": [
    {
     "data": {
      "text/plain": [
       "{'AI': {'Python': 1,\n",
       "  'Data Structures': 2,\n",
       "  'AI and Data Scientist': 3,\n",
       "  'Data Analyst': 4,\n",
       "  'MLOps': 5,\n",
       "  'Machine Learning': 6,\n",
       "  'Deep Learning': 7,\n",
       "  'Neural Networks': 8,\n",
       "  'Data Visualization': 9},\n",
       " 'BACKEND': {'Backend Beginner': 1,\n",
       "  'SQL': 2,\n",
       "  'Java': 3,\n",
       "  'Node.js': 4,\n",
       "  'Spring Boot': 5,\n",
       "  'ASP.NET Core': 6,\n",
       "  'PostgreSQL': 7,\n",
       "  'MongoDB': 8,\n",
       "  'GraphQL': 9,\n",
       "  'Docker': 10,\n",
       "  'Kubernetes': 11,\n",
       "  'Backend': 12,\n",
       "  'C++': 13,\n",
       "  'Go': 14,\n",
       "  'Rust': 15,\n",
       "  'System Design': 16,\n",
       "  'Design and Architecture': 17,\n",
       "  'Microservices': 18},\n",
       " 'FRONT': {'Frontend Beginner': 1,\n",
       "  'JavaScript': 2,\n",
       "  'CSS': 3,\n",
       "  'HTML': 4,\n",
       "  'React': 5,\n",
       "  'Vue': 6,\n",
       "  'Angular': 7,\n",
       "  'TypeScript': 8,\n",
       "  'Frontend': 9,\n",
       "  'Design System': 10,\n",
       "  'UX Design': 11,\n",
       "  'Web Accessibility': 12,\n",
       "  'Responsive Design': 13},\n",
       " 'APP': {'Flutter': 1,\n",
       "  'Android': 2,\n",
       "  'React Native': 3,\n",
       "  'Client Side Game Dev.': 4,\n",
       "  'Server Side Game Dev.': 5,\n",
       "  'iOS Development': 6,\n",
       "  'Cross-Platform Development': 7},\n",
       " 'EXT': {'Computer Science': 1,\n",
       "  'DevOps Beginner': 2,\n",
       "  'DevOps': 3,\n",
       "  'AWS': 4,\n",
       "  'Cyber Security': 5,\n",
       "  'Blockchain': 6,\n",
       "  'Software Architect': 7,\n",
       "  'Technical Writer': 8,\n",
       "  'Prompt Engineering': 9,\n",
       "  'Full Stack': 10,\n",
       "  'QA': 11,\n",
       "  'Code Review': 12,\n",
       "  'Git': 13,\n",
       "  'CI/CD': 14}}"
      ]
     },
     "execution_count": 62,
     "metadata": {},
     "output_type": "execute_result"
    }
   ],
   "source": [
    "# 분류 및 정렬 과정을 반영한 Python dictionary 생성 \n",
    "# 일반 gpt4 사용\n",
    "\n",
    "# 각 카테고리별 학습 항목 정의\n",
    "# 수정된 분류 및 정렬 과정을 반영한 Python dictionary 생성\n",
    "# 각 항목을 모두 포함하는 방식으로 재조정\n",
    "# roadmap에 매칭한 후 세부 조정은 내가 \n",
    "\n",
    "# 각 카테고리별 학습 항목 재정의\n",
    "categories_corrected = {\n",
    "    \"AI\": [\n",
    "        \"Python\",\n",
    "        \"Data Structures\",\n",
    "        \"AI and Data Scientist\",\n",
    "        \"Data Analyst\",\n",
    "        \"MLOps\",\n",
    "        \"Machine Learning\",\n",
    "        \"Deep Learning\",\n",
    "        \"Neural Networks\",\n",
    "        \"Data Visualization\"\n",
    "    ],\n",
    "    \"BACKEND\": [\n",
    "        \"Backend Beginner\",\n",
    "        \"SQL\",\n",
    "        \"Java\",\n",
    "        \"Node.js\",\n",
    "        \"Spring Boot\",\n",
    "        \"ASP.NET Core\",\n",
    "        \"PostgreSQL\",\n",
    "        \"MongoDB\",\n",
    "        \"GraphQL\",\n",
    "        \"Docker\",\n",
    "        \"Kubernetes\",\n",
    "        \"Backend\",\n",
    "        \"C++\",\n",
    "        \"Go\",\n",
    "        \"Rust\",\n",
    "        \"System Design\",\n",
    "        \"Design and Architecture\",\n",
    "        \"Microservices\"\n",
    "    ],\n",
    "    \"FRONT\": [\n",
    "        \"Frontend Beginner\",\n",
    "        \"JavaScript\",\n",
    "        \"CSS\",\n",
    "        \"HTML\",\n",
    "        \"React\",\n",
    "        \"Vue\",\n",
    "        \"Angular\",\n",
    "        \"TypeScript\",\n",
    "        \"Frontend\",\n",
    "        \"Design System\",\n",
    "        \"UX Design\",\n",
    "        \"Web Accessibility\",\n",
    "        \"Responsive Design\"\n",
    "    ],\n",
    "    \"APP\": [\n",
    "        \"Flutter\",\n",
    "        \"Android\",\n",
    "        \"React Native\",\n",
    "        \"Client Side Game Dev.\",\n",
    "        \"Server Side Game Dev.\",\n",
    "        \"iOS Development\",\n",
    "        \"Cross-Platform Development\"\n",
    "    ],\n",
    "    \"EXT\": [\n",
    "        \"Computer Science\",\n",
    "        \"DevOps Beginner\",\n",
    "        \"DevOps\",\n",
    "        \"AWS\",\n",
    "        \"Cyber Security\",\n",
    "        \"Blockchain\",\n",
    "        \"Software Architect\",\n",
    "        \"Technical Writer\",\n",
    "        \"Prompt Engineering\",\n",
    "        \"Full Stack\",\n",
    "        \"QA\",\n",
    "        \"Code Review\",\n",
    "        \"Git\",\n",
    "        \"CI/CD\"\n",
    "    ],\n",
    "}\n",
    "\n",
    "# 모든 항목을 포함하여 순서 재할당\n",
    "sorted_categories_corrected = {cat: {item: idx + 1 for idx, item in enumerate(items)} for cat, items in categories_corrected.items()}\n",
    "\n",
    "sorted_categories_corrected\n"
   ]
  },
  {
   "cell_type": "code",
   "execution_count": 63,
   "id": "8e25595c",
   "metadata": {},
   "outputs": [],
   "source": [
    "# Function to remove duplicates based on their first occurrence in the overall structure\n",
    "def remove_duplicates(roadmap):\n",
    "    seen_titles = set()\n",
    "    clean_roadmap = {}\n",
    "\n",
    "    for category, topics in roadmap.items():\n",
    "        clean_topics = {}\n",
    "        for title, order in topics.items():\n",
    "            if title not in seen_titles:\n",
    "                seen_titles.add(title)\n",
    "                clean_topics[title] = order\n",
    "        clean_roadmap[category] = clean_topics\n",
    "    \n",
    "    return clean_roadmap\n",
    "\n",
    "roadmap_no_duplicates = remove_duplicates(sorted_categories_corrected)"
   ]
  },
  {
   "cell_type": "code",
   "execution_count": 64,
   "id": "a96deec2",
   "metadata": {},
   "outputs": [],
   "source": [
    "roadmap_df['main_category'] = ''\n",
    "roadmap_df['study_order'] = ''\n",
    "\n",
    "for main_category, sub_category in roadmap_no_duplicates.items():\n",
    "    for sub_category_real, rank in sub_category.items():\n",
    "        roadmap_df['main_category'][roadmap_df['title'] == sub_category_real] = main_category\n",
    "        roadmap_df['study_order'][roadmap_df['title'] == sub_category_real] = rank\n"
   ]
  },
  {
   "cell_type": "code",
   "execution_count": 66,
   "id": "59be4a74",
   "metadata": {},
   "outputs": [],
   "source": [
    "# 모든 항목이 다 차져있으면 성공"
   ]
  },
  {
   "cell_type": "code",
   "execution_count": 67,
   "id": "a4050c29",
   "metadata": {},
   "outputs": [],
   "source": [
    "from datetime import datetime\n",
    "import pandas as pd\n",
    "\n",
    "# 현재 날짜를 가져와서 문자열 형식으로 변환\n",
    "current_date = datetime.now().strftime(\"%Y-%m-%d\")\n",
    "\n",
    "# 파일 이름 설정\n",
    "file_name = f\"{current_date}_roadmap.csv\""
   ]
  },
  {
   "cell_type": "code",
   "execution_count": 68,
   "id": "b8e31c3d",
   "metadata": {},
   "outputs": [],
   "source": [
    "roadmap_df.to_csv(file_name, index=False)"
   ]
  },
  {
   "cell_type": "code",
   "execution_count": 72,
   "id": "bf59e058",
   "metadata": {},
   "outputs": [
    {
     "data": {
      "text/plain": [
       "array(['FRONT', 'BACKEND', 'EXT', 'APP', 'AI'], dtype=object)"
      ]
     },
     "execution_count": 72,
     "metadata": {},
     "output_type": "execute_result"
    }
   ],
   "source": [
    "roadmap_df['main_category'].unique()"
   ]
  },
  {
   "cell_type": "code",
   "execution_count": null,
   "id": "50044f26",
   "metadata": {},
   "outputs": [],
   "source": []
  }
 ],
 "metadata": {
  "kernelspec": {
   "display_name": "dask",
   "language": "python",
   "name": "dask_1"
  },
  "language_info": {
   "codemirror_mode": {
    "name": "ipython",
    "version": 3
   },
   "file_extension": ".py",
   "mimetype": "text/x-python",
   "name": "python",
   "nbconvert_exporter": "python",
   "pygments_lexer": "ipython3",
   "version": "3.9.13"
  }
 },
 "nbformat": 4,
 "nbformat_minor": 5
}
